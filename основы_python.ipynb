{
 "nbformat": 4,
 "nbformat_minor": 0,
 "metadata": {
  "colab": {
   "provenance": []
  },
  "kernelspec": {
   "name": "python3",
   "display_name": "Python 3 (ipykernel)",
   "language": "python"
  },
  "language_info": {
   "name": "python"
  }
 },
 "cells": [
  {
   "cell_type": "markdown",
   "source": [
    "# Задача 1\n",
    "Написать функцию на вход которой подается строка, состоящая из латинских букв.\n",
    "Функция должна вернуть количество гласных букв (a, e, i, o, u) в этой строке. Написать тесты для кода"
   ],
   "metadata": {
    "id": "M-DGa20PaHnu"
   }
  },
  {
   "cell_type": "code",
   "source": [
    "# Your code goes here\n",
    "def vowels_in_string(string):\n",
    "    vowels = 'aeiou'\n",
    "    count = 0\n",
    "    for char in string:\n",
    "        if char in vowels:\n",
    "            count += 1\n",
    "    return count\n",
    "\n",
    "def test_vowels_in_string():\n",
    "    assert vowels_in_string('helloworld') == 3, \"Ошибка в первом тесте\"\n",
    "    assert vowels_in_string('test') == 1, \"Ошибка во втором тесте\"\n",
    "    assert vowels_in_string('aeiou') == 5, \"Ошибка в третьем тесте\"\n",
    "    assert vowels_in_string('') == 0, \"Ошибка в четвертом тесте\"\n",
    "\n",
    "test_vowels_in_string()    "
   ],
   "metadata": {
    "id": "XvX8X_JJ6PCb",
    "ExecuteTime": {
     "end_time": "2024-07-05T14:46:06.922135Z",
     "start_time": "2024-07-05T14:46:06.918054Z"
    }
   },
   "outputs": [],
   "execution_count": 21
  },
  {
   "cell_type": "markdown",
   "source": [
    "# Задача 2\n",
    "Написать функцию на вход, которой подается строка. Функция должна вернуть true, если\n",
    "каждый символ в строке встречается только 1 раз, иначе должна вернуть false. Написать тесты для кода"
   ],
   "metadata": {
    "id": "t2ClV_Y0bbr6"
   }
  },
  {
   "cell_type": "code",
   "source": [
    "# Your code goes here\n",
    "def unique_char(string):\n",
    "    array = []\n",
    "    for char in string:\n",
    "        if char in array:\n",
    "            return False\n",
    "        array.append(char)\n",
    "    return True\n",
    "\n",
    "def test_unique_char():\n",
    "    assert unique_char('helloworld') == False, 'Ошибка в первом тесте'\n",
    "    assert unique_char('test') == False, 'Ошибка во втором тесте'\n",
    "    assert unique_char('word') == True, 'Ошибка в третьем тесте'\n",
    "    assert unique_char('') == True, 'Ошибка в четвертом тесте'\n",
    "\n",
    "test_unique_char()"
   ],
   "metadata": {
    "id": "FppbECao6VIz",
    "ExecuteTime": {
     "end_time": "2024-07-05T14:55:05.973817Z",
     "start_time": "2024-07-05T14:55:05.966428Z"
    }
   },
   "outputs": [],
   "execution_count": 24
  },
  {
   "cell_type": "markdown",
   "source": [
    "# Задача 3\n",
    "Написать функцию, которая принимает положительное число и возвращает количество\n",
    "бит равных 1 в этом числе. Написать тесты для кода"
   ],
   "metadata": {
    "id": "udRiIK1cdt6E"
   }
  },
  {
   "cell_type": "code",
   "source": [
    "# Your code goes here\n",
    "def int_to_bit(integer):\n",
    "    if integer < 0:\n",
    "        raise ValueError('Число должно быть положительным')\n",
    "    return bin(integer).count('1')\n",
    "\n",
    "def test_int_to_bit():\n",
    "    assert int_to_bit(1) == 1, 'Ошибка в первом тесте'\n",
    "    assert int_to_bit(8) == 1, 'Ошибка во втором тесте'\n",
    "    assert int_to_bit(17) == 2, 'Ошибка в третьем тесте'\n",
    "    assert int_to_bit(23) == 4, 'Ошибка в четвертом тесте'\n",
    "    assert int_to_bit(167) == 5, 'Ошибка в пятом тесте'\n",
    "\n",
    "test_int_to_bit()"
   ],
   "metadata": {
    "id": "6tkfDJRz6dp_",
    "ExecuteTime": {
     "end_time": "2024-07-09T15:57:21.937714Z",
     "start_time": "2024-07-09T15:57:21.930962Z"
    }
   },
   "outputs": [],
   "execution_count": 1
  },
  {
   "cell_type": "markdown",
   "source": [
    "# Задача 4\n",
    "Написать функцию, которая принимает положительное число. Функция должна вернуть то,\n",
    "сколько раз необходимо перемножать цифры числа или результат перемножения, чтобы\n",
    "получилось число состоящее из одной цифры.\n",
    "Например, для входного числа:\n",
    "· 39 функция должна вернуть 3, так как 3*9=27 => 2*7=14 => 1*4=4\n",
    "· 4 функция должна вернуть 0, так как число уже состоит из одной цифры\n",
    "· 999 функция должна вернуть 4, так как 9*9*9=729 => 7*2*9=126 => 1*2*6=12 =>\n",
    "1*2=2. Написать тесты для кода"
   ],
   "metadata": {
    "id": "26dDUz-Ae17N"
   }
  },
  {
   "cell_type": "code",
   "source": [
    "def magic(n):\n",
    "    # Your code goes here\n",
    "    if n < 0:\n",
    "        raise ValueError(\"Число должно быть положительным\")\n",
    "    if 0 < n < 10:\n",
    "        print('0')\n",
    "\n",
    "    count = 0\n",
    "    while n >= 10:\n",
    "        result = 1\n",
    "        while n > 0:\n",
    "            result *= n % 10\n",
    "            n //= 10\n",
    "        n = result\n",
    "        count += 1\n",
    "    return count\n",
    "    \n",
    "def test_magic():\n",
    "    assert magic(73) == 2, 'Ошибка в первом тесте'\n",
    "    assert magic(12) == 1, 'Ошибка во втором тесте'\n",
    "    assert magic(45) == 2, 'Ошибка в третьем тесте'\n",
    "    assert magic(32) == 1, 'Ошибка в четвертом тесте'\n",
    "    assert magic(175) == 3, 'Ошибка в пятом тесте'\n",
    "\n",
    "test_magic()"
   ],
   "metadata": {
    "id": "BH1A_Mgi6i4G",
    "ExecuteTime": {
     "end_time": "2024-07-05T15:57:47.002267Z",
     "start_time": "2024-07-05T15:57:46.997826Z"
    }
   },
   "outputs": [],
   "execution_count": 77
  },
  {
   "cell_type": "markdown",
   "source": [
    "# Задача 5\n",
    "Написать функцию, которая принимает два целочисленных вектора одинаковой длины и\n",
    "возвращает среднеквадратическое отклонение двух векторов. Написать тесты для кода"
   ],
   "metadata": {
    "id": "0nS-kIa8g8vd"
   }
  },
  {
   "cell_type": "code",
   "source": [
    "def mse(pred, true):\n",
    "    # Your code goes here\n",
    "    if len(pred) != len(true):\n",
    "        raise ValueError('Длины векторов не совпадают по длине')\n",
    "    sum_of_squares = 0\n",
    "    for i in range(len(pred)):\n",
    "        diff = pred[i] - true[i]\n",
    "        sum_of_squares += diff ** 2\n",
    "    return sum_of_squares / len(pred)\n",
    "\n",
    "def test_mse():\n",
    "    assert mse([1, 4, 7, 7],[3, 4, 8, 4]) == 3.5, 'Ошибка в первом тесте'\n",
    "    assert mse([1, 2, 7, 7],[3, 4, 5, 4]) == 5.25, 'Ошибка во втором тесте'\n",
    "    assert mse([1, 7, 7, 7],[3, 4, 5, 1]) == 13.25, 'Ошибка в третьем тесте'\n",
    "\n",
    "test_mse()"
   ],
   "metadata": {
    "id": "8iphx4LM6xbx",
    "ExecuteTime": {
     "end_time": "2024-07-06T17:53:56.628059Z",
     "start_time": "2024-07-06T17:53:56.621836Z"
    }
   },
   "outputs": [],
   "execution_count": 1
  },
  {
   "cell_type": "markdown",
   "source": [
    "# Задача 6\n",
    "Написать функцию, принимающая целое положительное число. Функция должна вернуть\n",
    "строку вида “(n1**p1)(n2**p2)…(nk**pk)” представляющая разложение числа на простые\n",
    "множители (если pi == 1, то выводить только ni).\n",
    "Например, для числа 86240 функция должна вернуть “(2**5)(5)(7**2)(11)”. Написать тесты для кода"
   ],
   "metadata": {
    "id": "vpIPKL439zkw"
   }
  },
  {
   "cell_type": "code",
   "source": [
    "# Your code goes here\n",
    "def simple_numbers(n):\n",
    "    factors = {}\n",
    "    divisor = 2\n",
    "    while n > 1:\n",
    "        while (n % divisor) == 0:\n",
    "            if divisor in factors:\n",
    "                factors[divisor] += 1\n",
    "            else:\n",
    "                factors[divisor] = 1\n",
    "            n //= divisor\n",
    "        divisor += 1\n",
    "    return factors\n",
    "\n",
    "def format_simple_numbers(n):\n",
    "    factors = simple_numbers(n)\n",
    "    factor_strings = []\n",
    "    for prime, exponent in sorted(factors.items()):\n",
    "        if exponent == 1:\n",
    "            factor_strings.append(f\"({prime})\")\n",
    "        else:\n",
    "            factor_strings.append(f\"({prime}**{exponent})\")\n",
    "    return \"\".join(factor_strings)\n",
    "\n",
    "def test_simple_numbers():\n",
    "    assert format_simple_numbers(86240) == \"(2**5)(5)(7**2)(11)\", \"Ошибка в первом тесте\"\n",
    "    assert format_simple_numbers(60) == \"(2**2)(3)(5)\", \"Ошибка во втором тесте\"\n",
    "    assert format_simple_numbers(13) == \"(13)\", \"Ошибка в третьем тесте\"\n",
    "    assert format_simple_numbers(100) == \"(2**2)(5**2)\", \"Ошибка в четвертом тесте\"\n",
    "    assert format_simple_numbers(1) == \"\", \"Ошибка в пятом тесте\"\n",
    "\n",
    "test_simple_numbers()"
   ],
   "metadata": {
    "id": "pFebmcZk94Jw",
    "ExecuteTime": {
     "end_time": "2024-07-06T17:53:59.724803Z",
     "start_time": "2024-07-06T17:53:59.718782Z"
    }
   },
   "outputs": [],
   "execution_count": 2
  },
  {
   "cell_type": "markdown",
   "source": [
    "# Задача 7\n",
    "Написать функцию, принимающая целое число n, задающее количество кубиков. Функция\n",
    "должна определить, можно ли из данного кол-ва кубиков построить пирамиду, то есть\n",
    "можно ли представить число n как 1^2+2^2+3^2+…+k^2. Если можно, то функция должна\n",
    "вернуть k, иначе строку “It is impossible”. Написать тесты для кода"
   ],
   "metadata": {
    "id": "ps2s0BudX7A2"
   }
  },
  {
   "cell_type": "code",
   "source": [
    "def pyramid(number):\n",
    "    # Your code goes here\n",
    "    cubes_sum = 0\n",
    "    count = 0\n",
    "    while cubes_sum < number:\n",
    "        count += 1\n",
    "        cubes_sum += count**2\n",
    "    if cubes_sum == number:\n",
    "        return count\n",
    "    else:\n",
    "        return \"It is impossible\"\n",
    "\n",
    "def test_pyramid():\n",
    "    assert pyramid(12) == \"It is impossible\", 'Ошибка в первом тесте'\n",
    "    assert pyramid(30) == 4, 'Ошибка во втором тесте'\n",
    "    assert pyramid(55) == 5, 'Ошибка в третьем тесте'\n",
    "    assert pyramid(1) == 1, 'Ошибка в четвертом тесте'\n",
    "    assert pyramid(0) == 0, 'Ошибка в пятом тесте'\n",
    "\n",
    "test_pyramid()"
   ],
   "metadata": {
    "id": "3YPjEXxhX_YT",
    "ExecuteTime": {
     "end_time": "2024-07-09T17:27:51.816662Z",
     "start_time": "2024-07-09T17:27:51.810075Z"
    }
   },
   "outputs": [],
   "execution_count": 2
  },
  {
   "cell_type": "markdown",
   "source": [
    "# Задача 8\n",
    "Функция принимает на вход положительное число и определяет является ли оно сбалансированным, т.е. сумма цифр до средних равна сумме цифр после. Средними в случае нечетного числа цифр считать одну цифру, в случае четного - две средних. Написать тесты для кода"
   ],
   "metadata": {
    "id": "KeKgmIdAQMEJ"
   }
  },
  {
   "cell_type": "code",
   "source": [
    "# Your code goes here\n",
    "def balance_number(integer):\n",
    "    if integer < 0:\n",
    "        raise ValueError('Число должно быть положительным')\n",
    "    num_digits = list(map(int, str(integer)))\n",
    "    num_length = len(num_digits)\n",
    "    \n",
    "    if num_length < 3:\n",
    "        return False\n",
    "    \n",
    "    mid_index = num_length // 2\n",
    "    \n",
    "    if num_length % 2 == 0:\n",
    "        left_part = num_digits[:mid_index - 1]\n",
    "        right_part = num_digits[mid_index + 1:]\n",
    "    else:\n",
    "        left_part = num_digits[:mid_index]\n",
    "        right_part = num_digits[mid_index + 1:]\n",
    "    \n",
    "    return sum(left_part) == sum(right_part)\n",
    "\n",
    "def test_balance_number():\n",
    "    assert balance_number(124221) == True, \"Ошибка в первом тесте\"\n",
    "    assert balance_number(123456) == False, \"Ошибка во втором тесте\"\n",
    "    assert balance_number(12221) == True, \"Ошибка в третьем тесте\"\n",
    "\n",
    "test_balance_number()"
   ],
   "metadata": {
    "id": "gMAAqtqlQrZt",
    "ExecuteTime": {
     "end_time": "2024-07-05T19:51:41.589365Z",
     "start_time": "2024-07-05T19:51:41.584863Z"
    }
   },
   "outputs": [],
   "execution_count": 44
  }
 ]
}
